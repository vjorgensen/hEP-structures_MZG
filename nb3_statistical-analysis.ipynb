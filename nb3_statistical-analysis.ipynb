{
 "cells": [
  {
   "cell_type": "code",
   "execution_count": 1,
   "id": "22b5e8da",
   "metadata": {},
   "outputs": [
    {
     "name": "stdout",
     "output_type": "stream",
     "text": [
      "Mon Jun 14 11:38:22 PDT 2021\n"
     ]
    }
   ],
   "source": [
    "!date"
   ]
  },
  {
   "cell_type": "markdown",
   "id": "a4a3cda3",
   "metadata": {},
   "source": [
    "## Import packages. "
   ]
  },
  {
   "cell_type": "code",
   "execution_count": 4,
   "id": "e445790e",
   "metadata": {
    "tags": []
   },
   "outputs": [],
   "source": [
    "import numpy as np\n",
    "import pandas as pd\n",
    "import scanpy as sc\n",
    "import anndata\n",
    "\n",
    "import matplotlib\n",
    "import matplotlib.pyplot as plt\n",
    "\n",
    "%config InlineBackend.figure_format = 'retina'"
   ]
  },
  {
   "cell_type": "markdown",
   "id": "b8bb02b6",
   "metadata": {
    "tags": []
   },
   "source": [
    "## Read in the data"
   ]
  },
  {
   "cell_type": "code",
   "execution_count": 5,
   "id": "f59832d8",
   "metadata": {},
   "outputs": [
    {
     "data": {
      "text/plain": [
       "AnnData object with n_obs × n_vars = 4840 × 33694\n",
       "    obs: 'batch', 'sample_id', 'sample_number', 'cell_group', 'n_genes', 'n_counts', 'percent_mito', 'louvain', 'lineage', 'te_score', 'epi_score', 'hypo_score', 'sample_group', 'lineage_id', 'name', 'epsc_score'\n",
       "    var: 'gene_ids', 'feature_types', 'gene_name', 'highly_variable', 'highly_variable_rank', 'means', 'variances', 'variances_norm', 'mean', 'std'\n",
       "    uns: 'cell_group_colors', 'hvg', 'lineage_id_colors', 'louvain', 'name_colors', 'neighbors', 'pca', 'sample_group_colors', 'umap'\n",
       "    obsm: 'X_pca', 'X_umap'\n",
       "    varm: 'PCs'\n",
       "    obsp: 'connectivities', 'distances'"
      ]
     },
     "execution_count": 5,
     "metadata": {},
     "output_type": "execute_result"
    }
   ],
   "source": [
    "adata = anndata.read_h5ad(\"2021-06-14_adata_analyzed.h5ad\")\n",
    "adata"
   ]
  },
  {
   "cell_type": "markdown",
   "id": "56467188",
   "metadata": {},
   "source": [
    "### Make subsets of adata."
   ]
  },
  {
   "cell_type": "code",
   "execution_count": 7,
   "id": "ff9bdd8d",
   "metadata": {},
   "outputs": [],
   "source": [
    "# Subset for EPI and ELCs\n",
    "adata_epi = adata[adata.obs['lineage']== 'epi'] \n",
    "adata_epi = adata[(adata.obs['lineage_id']== 'Epiblast') | \n",
    "                  (adata.obs['lineage_id']== 'D5 ELCs') |  \n",
    "                  (adata.obs['lineage_id']== 'D6 ELCs')] \n",
    "\n",
    "# Subset for HYPO and HLCs\n",
    "adata_hypo = adata[adata.obs['lineage']== 'hypo']\n",
    "adata_hypo = adata[(adata.obs['lineage_id']== 'Hypoblast') | \n",
    "                  (adata.obs['lineage_id']== 'D5 HLCs') |  \n",
    "                  (adata.obs['lineage_id']== 'D6 HLCs')] \n",
    "\n",
    "# Subset for TE and TLCs\n",
    "adata_te = adata[adata.obs['lineage']== 'te']\n",
    "adata_te = adata[(adata.obs['lineage_id']== 'Trophectoderm') | \n",
    "                  (adata.obs['lineage_id']== 'D5 TLCs') |  \n",
    "                  (adata.obs['lineage_id']== 'D6 TLCs')] "
   ]
  },
  {
   "cell_type": "markdown",
   "id": "077f6f84",
   "metadata": {},
   "source": [
    "### Make gene list for each lineage"
   ]
  },
  {
   "cell_type": "code",
   "execution_count": 10,
   "id": "09934d77",
   "metadata": {},
   "outputs": [],
   "source": [
    "# Reads in a list of genes for each lineage from from supplementary table 12 of Liu et al.\n",
    "df_lineage = pd.read_csv('supp12.csv')\n",
    "epi_markers = df_lineage.loc[df_lineage[\"type\"]==\"ALL-EPI\"][\"geneName\"].values\n",
    "hypo_markers = df_lineage.loc[df_lineage[\"type\"]==\"ALL-PE\"][\"geneName\"].values\n",
    "te_markers = df_lineage.loc[df_lineage[\"type\"]==\"ALL-TE\"][\"geneName\"].values\n",
    "\n",
    "# Makes sure that all genes in lineage gene lists are also present in the data set. \n",
    "epi_markers_present = []\n",
    "for marker in epi_markers:\n",
    "    if marker in adata.var[\"gene_name\"]:\n",
    "        epi_markers_present.append(marker)\n",
    "        \n",
    "hypo_markers_present = []\n",
    "for marker in hypo_markers:\n",
    "    if marker in adata.var[\"gene_name\"]:\n",
    "        hypo_markers_present.append(marker)\n",
    "        \n",
    "te_markers_present = []\n",
    "for marker in te_markers:\n",
    "    if marker in adata.var[\"gene_name\"]:\n",
    "        te_markers_present.append(marker)\n"
   ]
  },
  {
   "cell_type": "markdown",
   "id": "62463218",
   "metadata": {},
   "source": [
    "___\n",
    "## Mean, Std, and max expression values for HYPO, EPI, TE\n",
    "___"
   ]
  },
  {
   "cell_type": "markdown",
   "id": "dcc2ea3c",
   "metadata": {},
   "source": [
    "### EPIBLAST"
   ]
  },
  {
   "cell_type": "code",
   "execution_count": 47,
   "id": "73968f0c",
   "metadata": {},
   "outputs": [],
   "source": [
    "# Mean expression for genes in ELCs/Epiblast\n",
    "epi_res_mean = pd.DataFrame(columns=adata_epi.var_names, index=adata_epi.obs['lineage_id'].cat.categories)                                                                                                 \n",
    "for clust in adata_epi.obs.lineage_id.cat.categories: \n",
    "    epi_res_mean.loc[clust] = adata_epi[adata_epi.obs['lineage_id'].isin([clust]),:].X.mean(0)\n",
    "    \n",
    "# Dataframe with EPI related genes only.  \n",
    "df_epi_res_mean = pd.DataFrame()\n",
    "for i, marker in enumerate(epi_markers_present):\n",
    "    df_epi_res_mean[marker] = epi_res_mean[marker]   \n",
    "    \n",
    "# # Transform matrix and sort values    \n",
    "# df_epi_res_mean = df_epi_res_mean.T\n",
    "# df_epi_res_mean = df_epi_res_mean.sort_values(\"Epiblast\")"
   ]
  },
  {
   "cell_type": "code",
   "execution_count": 48,
   "id": "b6ebf5e3",
   "metadata": {},
   "outputs": [],
   "source": [
    "# Standard deviation for ELCs/Epiblast     \n",
    "epi_res_std = pd.DataFrame(columns=adata_epi.var_names, index=adata_epi.obs['lineage_id'].cat.categories)                                                                                                 \n",
    "\n",
    "for clust in adata_epi.obs.lineage_id.cat.categories: \n",
    "    epi_res_std.loc[clust] = adata_epi[adata_epi.obs['lineage_id'].isin([clust]),:].X.std(0)\n",
    "\n",
    "# Dataframe with EPI related genes only.   \n",
    "df_epi_res_std = pd.DataFrame()\n",
    "for i, marker in enumerate(epi_markers_present):\n",
    "    df_epi_res_std[marker] = epi_res_std[marker]\n",
    "    \n",
    "# # Transform matrix and sort values\n",
    "# df_epi_res_std = df_epi_res_std.T\n",
    "# df_epi_res_std = df_epi_res_std.sort_values(\"Epiblast\")\n",
    "# df_epi_res_std"
   ]
  },
  {
   "cell_type": "markdown",
   "id": "bf3010e7",
   "metadata": {},
   "source": [
    "### HYPOBLAST"
   ]
  },
  {
   "cell_type": "code",
   "execution_count": 49,
   "id": "bcf03ed2",
   "metadata": {},
   "outputs": [],
   "source": [
    "# Mean expression for genes in HLCs/Hypoblast  \n",
    "res_hypo_mean = pd.DataFrame(columns=adata_hypo.var_names, index=adata_hypo.obs['lineage_id'].cat.categories)                                                                                                 \n",
    "\n",
    "for clust in adata_hypo.obs.lineage_id.cat.categories: \n",
    "    res_hypo_mean.loc[clust] = adata_hypo[adata_hypo.obs['lineage_id'].isin([clust]),:].X.mean(0)\n",
    "\n",
    "# Dataframe with HYPO related genes only.      \n",
    "df_hypo_res_mean = pd.DataFrame()\n",
    "for i, marker in enumerate(hypo_markers_present):\n",
    "    df_hypo_res_mean[marker] = res_hypo_mean[marker]\n",
    "\n",
    "# # Transform matrix and sort values\n",
    "# df_hypo_res_mean = df_hypo_res_mean.T\n",
    "# df_hypo_res_mean = df_hypo_res_mean.sort_values(\"Hypoblast\")\n",
    "# df_hypo_res_mean"
   ]
  },
  {
   "cell_type": "code",
   "execution_count": 50,
   "id": "55d59a00",
   "metadata": {},
   "outputs": [],
   "source": [
    "# Standard deviation in HLCs/Hypoblast     \n",
    "res_hypo_std = pd.DataFrame(columns=adata_hypo.var_names, index=adata_hypo.obs['lineage_id'].cat.categories)                                                                                                 \n",
    "\n",
    "for clust in adata_hypo.obs.lineage_id.cat.categories: \n",
    "    res_hypo_std.loc[clust] = adata_hypo[adata_hypo.obs['lineage_id'].isin([clust]),:].X.std(0)\n",
    "\n",
    "# Dataframe with HYPO related genes only. \n",
    "df_hypo_res_std = pd.DataFrame()\n",
    "for i, marker in enumerate(hypo_markers_present):\n",
    "    df_hypo_res_std[marker] = res_hypo_std[marker]   \n",
    "    \n",
    "# # Transform matrix and sort values\n",
    "# df_hypo_res_std = df_hypo_res_std.T\n",
    "# df_hypo_res_std = df_hypo_res_std.sort_values(\"Hypoblast\")\n",
    "# df_hypo_res_std"
   ]
  },
  {
   "cell_type": "markdown",
   "id": "55c440e8",
   "metadata": {},
   "source": [
    "### TROPHOBLAST"
   ]
  },
  {
   "cell_type": "code",
   "execution_count": 51,
   "id": "7055e14f",
   "metadata": {},
   "outputs": [],
   "source": [
    "# Mean expression in TLCs/Trophectoderm     \n",
    "res_te_mean = pd.DataFrame(columns=adata_te.var_names, index=adata_te.obs['lineage_id'].cat.categories)                                                                                                 \n",
    "\n",
    "for clust in adata_te.obs.lineage_id.cat.categories: \n",
    "    res_te_mean.loc[clust] = adata_te[adata_te.obs['lineage_id'].isin([clust]),:].X.mean(0)\n",
    "    \n",
    "# Dataframe with TE related genes only. \n",
    "df_te_res_mean = pd.DataFrame()\n",
    "for i, marker in enumerate(te_markers_present):\n",
    "    df_te_res_mean[marker] = res_te_mean[marker] \n",
    "    \n",
    "# # Transform matrix and sort values\n",
    "# df_te_res_mean = df_te_res_mean.T\n",
    "# df_te_res_mean = df_te_res_mean.sort_values(\"Trophectoderm\")\n",
    "# df_te_res_mean"
   ]
  },
  {
   "cell_type": "code",
   "execution_count": 52,
   "id": "2736f606",
   "metadata": {},
   "outputs": [],
   "source": [
    "# Standard deviation for TLCs/Trophectoderm   \n",
    "res_te_std = pd.DataFrame(columns=adata_te.var_names, index=adata_te.obs['lineage_id'].cat.categories)                                                                                                 \n",
    "\n",
    "for clust in adata_te.obs.lineage_id.cat.categories: \n",
    "    res_te_std.loc[clust] = adata_te[adata_te.obs['lineage_id'].isin([clust]),:].X.std(0)\n",
    "\n",
    "# Dataframe with TE related genes only. \n",
    "df_te_res_std = pd.DataFrame()\n",
    "for i, marker in enumerate(te_markers_present):\n",
    "    df_te_res_std[marker] = res_te_std[marker]\n",
    "    \n",
    "# # Transform matrix and sort values\n",
    "# df_te_res_std = df_te_res_std.T\n",
    "# df_te_res_std = df_te_res_std.sort_values(\"Trophectoderm\")\n",
    "# df_te_res_std"
   ]
  },
  {
   "cell_type": "code",
   "execution_count": 53,
   "id": "7f9b064f",
   "metadata": {},
   "outputs": [],
   "source": [
    "# Concatenate the mean and std dataframes for each lineage. \n",
    "df_epi_data = pd.concat([df_res_mean, df_res_std])\n",
    "df_hypo_data = pd.concat([df_hypo_res_mean, df_hypo_res_std])\n",
    "df_te_data = pd.concat([df_te_res_mean, df_te_res_std])\n",
    "\n",
    "# # Save as .csv\n",
    "# df_epi_data.to_csv(\"data/epi_mean_std.csv\")\n",
    "# df_hypo_data.to_csv(\"data/hypo_mean_std.csv\")\n",
    "# df_te_data.to_csv(\"data/te_mean_std.csv\")"
   ]
  },
  {
   "cell_type": "code",
   "execution_count": 54,
   "id": "5ab842e3",
   "metadata": {},
   "outputs": [],
   "source": [
    "# Shows counts for all lineages.\n",
    "df_counts = pd.DataFrame((adata.obs.lineage_id.value_counts())).T\n",
    "df_counts = df_counts[[\"D5 ELCs\", \"D6 ELCs\",\"Epiblast\", \n",
    "                       \"D5 HLCs\", \"D6 HLCs\", \"Hypoblast\", \n",
    "                       \"D5 TLCs\", \"D6 TLCs\",\"Trophectoderm\", \n",
    "                       \"Undefined\"]]\n",
    "# df_counts.to_csv(\"data/lineage_counts.csv\")"
   ]
  },
  {
   "cell_type": "code",
   "execution_count": 13,
   "id": "09bd1806",
   "metadata": {},
   "outputs": [
    {
     "name": "stdout",
     "output_type": "stream",
     "text": [
      "The watermark extension is already loaded. To reload it, use:\n",
      "  %reload_ext watermark\n",
      "CPython 3.7.10\n",
      "IPython 7.22.0\n",
      "\n",
      "numpy 1.19.4\n",
      "pandas 1.1.4\n",
      "scanpy 1.7.2\n",
      "anndata 0.7.5\n",
      "jupyterlab 3.0.11\n",
      "matplotlib 3.3.4\n"
     ]
    }
   ],
   "source": [
    "%load_ext watermark\n",
    "%watermark -v -p numpy,pandas,scanpy,anndata,jupyterlab,matplotlib"
   ]
  }
 ],
 "metadata": {
  "kernelspec": {
   "display_name": "Python 3",
   "language": "python",
   "name": "python3"
  },
  "language_info": {
   "codemirror_mode": {
    "name": "ipython",
    "version": 3
   },
   "file_extension": ".py",
   "mimetype": "text/x-python",
   "name": "python",
   "nbconvert_exporter": "python",
   "pygments_lexer": "ipython3",
   "version": "3.7.10"
  }
 },
 "nbformat": 4,
 "nbformat_minor": 5
}
