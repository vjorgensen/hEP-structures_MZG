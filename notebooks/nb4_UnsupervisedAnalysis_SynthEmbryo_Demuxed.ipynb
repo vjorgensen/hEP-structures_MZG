{
 "cells": [
  {
   "cell_type": "code",
   "execution_count": 1,
   "metadata": {},
   "outputs": [
    {
     "name": "stderr",
     "output_type": "stream",
     "text": [
      "/Users/sisichen/opt/anaconda3/lib/python3.7/site-packages/statsmodels/tools/_testing.py:19: FutureWarning: pandas.util.testing is deprecated. Use the functions in the public API at pandas.testing instead.\n",
      "  import pandas.util.testing as tm\n"
     ]
    }
   ],
   "source": [
    "import popalign as PA\n",
    "import importlib\n",
    "import pickle\n",
    "\n",
    "import numpy as np\n",
    "from multiprocessing import Pool\n",
    "from sklearn.metrics import mean_squared_error\n",
    "import pandas as pd\n",
    "import seaborn as sns\n",
    "import matplotlib\n",
    "from matplotlib import pyplot as plt\n",
    "import os\n",
    "from scipy.special import comb\n",
    "import scipy.cluster.hierarchy as hc\n",
    "import scipy.spatial as sp\n",
    "\n",
    "import numpy as np\n",
    "from matplotlib import pyplot as plt"
   ]
  },
  {
   "cell_type": "code",
   "execution_count": 2,
   "metadata": {},
   "outputs": [],
   "source": [
    "import anndata as ad"
   ]
  },
  {
   "cell_type": "code",
   "execution_count": 3,
   "metadata": {},
   "outputs": [],
   "source": [
    "### import anndata version of the data"
   ]
  },
  {
   "cell_type": "code",
   "execution_count": 6,
   "metadata": {},
   "outputs": [],
   "source": [
    "adata = ad.read_h5ad('all_datasets.h5ad')"
   ]
  },
  {
   "cell_type": "code",
   "execution_count": 7,
   "metadata": {},
   "outputs": [
    {
     "name": "stdout",
     "output_type": "stream",
     "text": [
      "2D\n",
      "D5\n",
      "D6\n",
      "Nat\n",
      "StemBlastoids\n",
      "iBlastoids\n"
     ]
    }
   ],
   "source": [
    "# convert adata to pop object: \n",
    "pop = dict\n",
    "meta = adata.obs\n",
    "M = adata.X.T.tocsc()\n",
    "controlstring = 'Nat'\n",
    "genes = adata.var_names\n",
    "outputfolder = 'output'\n",
    "\n",
    "samples = adata.obs['orig.ident'].cat.categories\n",
    "samples = ['2D', 'D5', 'D6', 'Nat','StemBlastoids', 'iBlastoids']\n",
    "\n",
    "pop = {}\n",
    "pop['samples'] = {}\n",
    "pop['order'] = []\n",
    "pop['controlstring'] = controlstring\n",
    "pop['genes'] = genes\n",
    "pop['ncores'] = None\n",
    "\n",
    "cols = meta.columns.values\n",
    "\n",
    "barcodes = adata.obs.index\n",
    "bc_idx = {} # store index of each barcode in a dictionary to quickly retrieve indices for a list of barcodes\n",
    "for i, bc in enumerate(barcodes):\n",
    "    bc_idx[bc] = i\n",
    "\n",
    "accum_idx = [] # accumulate index values for subsetted samples\n",
    "for i, x in enumerate(samples):\n",
    "    if x !='unknown':\n",
    "        print(x)\n",
    "        pop['samples'][x]={}\n",
    "        sample_bcs = meta[meta['orig.ident'] == x].index\n",
    "        idx = [bc_idx[bc] for bc in sample_bcs]\n",
    "        pop['samples'][x]['M'] = M[:,idx] # extract matching data from M\n",
    "        pop['order'].append(x) # save list of sample names to always call them in the same order for consistency\n",
    "        accum_idx = accum_idx + idx \n",
    "        # store cell type information in samples \n",
    "        if 'type' in cols: \n",
    "            pop['samples'][x]['cell_type'] = meta.iloc[idx].type.tolist() # extract supplied cell types from metadata\n",
    "            \n",
    "\n",
    "# Trim the meta data file to only contain the filtered samples\n",
    "currmeta = meta.iloc[accum_idx]\n",
    "pop['meta'] = currmeta\n",
    "\n",
    "# save start and end of cell indices of sample relative to other samples\n",
    "start = 0\n",
    "end = 0\n",
    "for x in pop['order']:\n",
    "    n = pop['samples'][x]['M'].shape[1]\n",
    "    end = start+n\n",
    "    pop['samples'][x]['indices'] = (start,end)\n",
    "    start = end\n",
    "pop['ncells'] = end\n",
    "pop['nsamples'] = len(pop['order']) \n",
    "pop['output'] = outputfolder"
   ]
  },
  {
   "cell_type": "code",
   "execution_count": 8,
   "metadata": {},
   "outputs": [
    {
     "data": {
      "text/plain": [
       "dict_keys(['samples', 'order', 'controlstring', 'genes', 'ncores', 'meta', 'ncells', 'nsamples', 'output'])"
      ]
     },
     "execution_count": 8,
     "metadata": {},
     "output_type": "execute_result"
    }
   ],
   "source": [
    "pop.keys()"
   ]
  },
  {
   "cell_type": "code",
   "execution_count": 9,
   "metadata": {},
   "outputs": [],
   "source": [
    "# read in the marker genes: \n",
    "# markers = pd.read_csv('../../Resources/markers.csv', header = 0)\n",
    "markers = pd.read_csv('markers.csv', header = 0)\n",
    "markers = markers.iloc[:,0:2]"
   ]
  },
  {
   "cell_type": "code",
   "execution_count": 10,
   "metadata": {},
   "outputs": [
    {
     "data": {
      "text/html": [
       "<div>\n",
       "<style scoped>\n",
       "    .dataframe tbody tr th:only-of-type {\n",
       "        vertical-align: middle;\n",
       "    }\n",
       "\n",
       "    .dataframe tbody tr th {\n",
       "        vertical-align: top;\n",
       "    }\n",
       "\n",
       "    .dataframe thead th {\n",
       "        text-align: right;\n",
       "    }\n",
       "</style>\n",
       "<table border=\"1\" class=\"dataframe\">\n",
       "  <thead>\n",
       "    <tr style=\"text-align: right;\">\n",
       "      <th></th>\n",
       "      <th>Lineage</th>\n",
       "      <th>Gene</th>\n",
       "    </tr>\n",
       "  </thead>\n",
       "  <tbody>\n",
       "    <tr>\n",
       "      <th>0</th>\n",
       "      <td>Naive</td>\n",
       "      <td>KLF4</td>\n",
       "    </tr>\n",
       "    <tr>\n",
       "      <th>1</th>\n",
       "      <td>Naive</td>\n",
       "      <td>KLF17</td>\n",
       "    </tr>\n",
       "    <tr>\n",
       "      <th>2</th>\n",
       "      <td>Naive</td>\n",
       "      <td>PRDM14</td>\n",
       "    </tr>\n",
       "    <tr>\n",
       "      <th>3</th>\n",
       "      <td>Naive</td>\n",
       "      <td>DNMT3L</td>\n",
       "    </tr>\n",
       "    <tr>\n",
       "      <th>4</th>\n",
       "      <td>Naive</td>\n",
       "      <td>SOX15</td>\n",
       "    </tr>\n",
       "    <tr>\n",
       "      <th>...</th>\n",
       "      <td>...</td>\n",
       "      <td>...</td>\n",
       "    </tr>\n",
       "    <tr>\n",
       "      <th>109</th>\n",
       "      <td>Amnion</td>\n",
       "      <td>KRT19</td>\n",
       "    </tr>\n",
       "    <tr>\n",
       "      <th>110</th>\n",
       "      <td>Amnion</td>\n",
       "      <td>TPM1</td>\n",
       "    </tr>\n",
       "    <tr>\n",
       "      <th>111</th>\n",
       "      <td>Amnion</td>\n",
       "      <td>RARRES2</td>\n",
       "    </tr>\n",
       "    <tr>\n",
       "      <th>112</th>\n",
       "      <td>Amnion</td>\n",
       "      <td>MSX2</td>\n",
       "    </tr>\n",
       "    <tr>\n",
       "      <th>113</th>\n",
       "      <td>Amnion</td>\n",
       "      <td>GABRP</td>\n",
       "    </tr>\n",
       "  </tbody>\n",
       "</table>\n",
       "<p>114 rows × 2 columns</p>\n",
       "</div>"
      ],
      "text/plain": [
       "    Lineage     Gene\n",
       "0     Naive     KLF4\n",
       "1     Naive    KLF17\n",
       "2     Naive   PRDM14\n",
       "3     Naive   DNMT3L\n",
       "4     Naive    SOX15\n",
       "..      ...      ...\n",
       "109  Amnion    KRT19\n",
       "110  Amnion     TPM1\n",
       "111  Amnion  RARRES2\n",
       "112  Amnion     MSX2\n",
       "113  Amnion    GABRP\n",
       "\n",
       "[114 rows x 2 columns]"
      ]
     },
     "execution_count": 10,
     "metadata": {},
     "output_type": "execute_result"
    }
   ],
   "source": [
    "markers"
   ]
  },
  {
   "cell_type": "code",
   "execution_count": 11,
   "metadata": {},
   "outputs": [
    {
     "name": "stdout",
     "output_type": "stream",
     "text": [
      "2D \t 228\n",
      "D5 \t 2013\n",
      "D6 \t 2057\n",
      "Nat \t 542\n",
      "StemBlastoids \t 4497\n",
      "iBlastoids \t 6735\n",
      "Total number of cells loaded: 16072\n"
     ]
    }
   ],
   "source": [
    "'''\n",
    "Display number of cells in each sample, total number of cells\n",
    "\n",
    "Parameters\n",
    "----------\n",
    "pop : dict\n",
    "    Popalign object\n",
    "'''\n",
    "PA.print_ncells(pop)"
   ]
  },
  {
   "cell_type": "code",
   "execution_count": 12,
   "metadata": {},
   "outputs": [
    {
     "name": "stdout",
     "output_type": "stream",
     "text": [
      "Performing column normalization\n",
      "Finding best scaling factor\n",
      "Best scaling factor beta is: 10000\n"
     ]
    }
   ],
   "source": [
    "'''\n",
    "Normalize the samples of object `pop` and applies a normalization factor\n",
    "\n",
    "Parameters\n",
    "----------\n",
    "pop : dict\n",
    "    Popalign object\n",
    "scaling_factor : int or None, optional\n",
    "    Number used to scale the data values. If None, that factor is computed automatically\n",
    "ncells : int or None\n",
    "    Number of cells to randomly subsample to try different normalization factors to use less memory. If None, all cells are used.\n",
    "'''\n",
    "PA.normalize(pop, scaling_factor=None, ncells=None)"
   ]
  },
  {
   "cell_type": "code",
   "execution_count": 13,
   "metadata": {},
   "outputs": [
    {
     "name": "stdout",
     "output_type": "stream",
     "text": [
      "1834 genes selected\n"
     ]
    },
    {
     "data": {
      "image/png": "[encoded data removed]",
      "text/plain": [
       "<Figure size 576x432 with 1 Axes>"
      ]
     },
     "metadata": {
      "needs_background": "light"
     },
     "output_type": "display_data"
    }
   ],
   "source": [
    "'''\n",
    "Plot genes by their log(mean) and log(coefficient of variation)\n",
    "Can be used multiple times to find best offset\n",
    "\n",
    "Parameters\n",
    "----------\n",
    "offset: float\n",
    "    Value (its log) will be added to the intercept of the linear fit to filter genes\n",
    "'''\n",
    "\n",
    "PA.plot_gene_filter(pop, offset=1.3)"
   ]
  },
  {
   "cell_type": "code",
   "execution_count": 14,
   "metadata": {},
   "outputs": [],
   "source": [
    "# # Make sure all markers are in the filtered_idx <- this will be used to filter genes in the next step \n",
    "\n",
    "def addmarkers(pop, markerlist): \n",
    "    '''\n",
    "    Add specific markers back to the list after the filter(pop) step. \n",
    "    \n",
    "    Parameters\n",
    "    ----------\n",
    "    pop : dict\n",
    "        Popalign object\n",
    "    markerlist : list\n",
    "        list of genes that should be kept in the analysis\n",
    "    '''\n",
    "    \n",
    "    M = PA.cat_data(pop,'M')\n",
    "    allmarkeridx = []\n",
    "    for i, marker in enumerate(markerlist):\n",
    "        midx = np.nonzero(np.array(pop['genes'])==marker)[0]\n",
    "        # check that marker is not zero across all cells\n",
    "        if np.sum(M[midx,:])==0: \n",
    "            # do not add the marker\n",
    "            print('marker ' + marker +' has 0 transcripts')\n",
    "        else: \n",
    "            allmarkeridx.append(midx)\n",
    "    allmarkeridx = np.hstack(allmarkeridx)\n",
    "\n",
    "    filter_idx = pop['filter_idx']\n",
    "    filter_idx = np.sort(np.union1d(filter_idx,allmarkeridx))\n",
    "\n",
    "    numgenesadded = len(filter_idx) - len(pop['filter_idx'])\n",
    "    print('Number of genes added: ' + str(numgenesadded))\n",
    "    \n",
    "    pop['filter_idx'] = filter_idx \n"
   ]
  },
  {
   "cell_type": "code",
   "execution_count": 15,
   "metadata": {},
   "outputs": [
    {
     "name": "stdout",
     "output_type": "stream",
     "text": [
      "marker HNF1B has 0 transcripts\n",
      "marker LINC01356 has 0 transcripts\n",
      "Number of genes added: 60\n"
     ]
    }
   ],
   "source": [
    "markerlist = markers['Gene']\n",
    "addmarkers(pop,markerlist)"
   ]
  },
  {
   "cell_type": "code",
   "execution_count": 16,
   "metadata": {},
   "outputs": [
    {
     "data": {
      "text/plain": [
       "1894"
      ]
     },
     "execution_count": 16,
     "metadata": {},
     "output_type": "execute_result"
    }
   ],
   "source": [
    "len(pop['filter_idx'])"
   ]
  },
  {
   "cell_type": "code",
   "execution_count": 17,
   "metadata": {},
   "outputs": [
    {
     "name": "stdout",
     "output_type": "stream",
     "text": [
      "Filtering genes and logging data\n"
     ]
    }
   ],
   "source": [
    "'''\n",
    "Filter genes from data in `pop`\n",
    "Can discard ribosomal genes that start with RPS or RPL\n",
    "Can discard mitochondrial genes that start with MT-\n",
    "\n",
    "Parameters\n",
    "----------\n",
    "pop :dict\n",
    "    Popalign object\n",
    "remove_ribsomal : bool\n",
    "    Wether to remove or not the ribosomal genes\n",
    "remove_mitochondrial : bool\n",
    "    Wether to remove or not the mitochondrial geneset\n",
    "'''\n",
    "PA.filter(pop, remove_ribsomal=False, remove_mitochondrial=False)"
   ]
  },
  {
   "cell_type": "code",
   "execution_count": 18,
   "metadata": {},
   "outputs": [
    {
     "name": "stdout",
     "output_type": "stream",
     "text": [
      "(18379, 228)\n"
     ]
    }
   ],
   "source": [
    "print(pop['samples']['2D']['M'].shape)"
   ]
  },
  {
   "cell_type": "markdown",
   "metadata": {},
   "source": [
    "### Do NMF to see what the different cell types are: "
   ]
  },
  {
   "cell_type": "code",
   "execution_count": 19,
   "metadata": {},
   "outputs": [],
   "source": [
    "from sklearn import cluster as scluster\n",
    "from scipy import sparse as ss\n",
    "from scipy import optimize as so\n",
    "\n",
    "def plot_top_genes_features(W, genes, stdfactor=3, prefix=''):\n",
    "    \"\"\"\n",
    "    Plot heatmap top genes per feature ~ features\n",
    "\n",
    "    NB: Currently only supports oNMF features\n",
    "\n",
    "    Parameters\n",
    "    ----------\n",
    "    W: array\n",
    "        m (number of genes) x k (number of features)\n",
    "    genes: list of strings\n",
    "        gene names\n",
    "    stdfactor: float \n",
    "        factor to select genes\n",
    "    \"\"\"\n",
    "    filtered_genes = genes\n",
    "    nfeats = W.shape[1]\n",
    "    stds = np.array(W.std(axis=0)).flatten() # get the feature standard deviations\n",
    "     \n",
    "    genes_idx = np.array([])\n",
    "    genes_loadings = np.array([])\n",
    "    genes_featv = np.array([]) # keep track of which feature we are on\n",
    "    for i,s in enumerate(stds): # for each feature i and its respective standard deviations\n",
    "        a = np.where(np.array(W[:,i]).flatten() > stdfactor*s)[0] # get indices of top genes\n",
    "        sub = np.array(W[a,i]).flatten() # grab coefficients of top genes for feature i\n",
    "        a = a[np.argsort(sub)[::-1]] # sort subset by coefficent\n",
    "        genes_idx = np.concatenate([genes_idx, a]) # concatenate gene indices\n",
    "        genes_loadings = np.concatenate([genes_loadings, np.sort(sub)[::-1]])\n",
    "        genes_featv = np.concatenate([genes_featv, [i]*len(a)])\n",
    "    genes_idx = genes_idx.astype(int)\n",
    "\n",
    "    # make list unique (a gene can't appear twice in the list for two different features)\n",
    "    s = set() # set of genes currently kept\n",
    "    l = [] # list of genes\n",
    "    vals = [] # value of maximum loading seen for that gene \n",
    "    keepidx = []\n",
    "    for i in range(len(genes_idx)):\n",
    "        x = genes_idx[i]\n",
    "        currval = genes_loadings[i]\n",
    "        curridx = np.nonzero(genes_loadings==currval)[0][0]\n",
    "        if x in s: \n",
    "            # find the existing loading value and compare it to the new loading value\n",
    "            origidx = np.argwhere(l==x)[0][0]\n",
    "            origval = vals[origidx]\n",
    "            if origval<currval: \n",
    "                # remove the origval and gene name in the list and append the new val and gene name\n",
    "                del keepidx[origidx]\n",
    "                keepidx.append(curridx)\n",
    "                l.remove(x)\n",
    "                l.append(x)\n",
    "                vals.remove(origval)\n",
    "                vals.append(currval)\n",
    "\n",
    "        if x not in s:\n",
    "            s.add(x)\n",
    "            l.append(x)\n",
    "            vals.append(currval)\n",
    "            keepidx.append(curridx)\n",
    "\n",
    "    genes_idx = np.array(l)[::-1]\n",
    "    genes_featv = np.flipud(genes_featv[keepidx])\n",
    "    keptgenes = [filtered_genes[i] for i in genes_idx]\n",
    "    \n",
    "     # define gene font sizes\n",
    "    geneFS = 3 # (default)\n",
    "    if len(genes_idx)>200: \n",
    "        geneFS = 4\n",
    "    if len(genes_idx)>400: \n",
    "        geneFS = 2\n",
    "    if len(genes_idx)>600: \n",
    "        geneFS = 1\n",
    "\n",
    "    mtx = W[genes_idx, :] # subset feature space with the top genes for the features\n",
    "    \n",
    "    fig = plt.figure(figsize=(8,16))\n",
    "    ax1 = plt.subplot2grid((5,50), (0,0), rowspan=5, colspan=1)\n",
    "    ax2 = plt.subplot2grid((5,50), (0,1), rowspan=5, colspan=49)\n",
    "\n",
    "    ax1.imshow(genes_featv.reshape((len(genes_featv),1)), cmap='tab20', aspect = 'auto')\n",
    "    ax1.set_xticks([])\n",
    "    ax1.set_ylabel('Genes')\n",
    "    ax1.set_ylim(-0.5,len(genes_idx)-0.5)\n",
    "    ax1.set_yticks(np.arange(len(genes_idx)))\n",
    "    ax1.set_yticklabels(keptgenes, fontsize=geneFS)\n",
    "    \n",
    "    ar = 3 * nfeats/len(genes_idx) # define aspect ratio\n",
    "    ax2.imshow(np.flipud(mtx), cmap='magma', aspect=ar, interpolation='none') # create heatmap\n",
    "    xlbls = [i for i in range(nfeats)]\n",
    "    ax2.set_yticks([])\n",
    "    ax2.set_xticks(np.arange(nfeats))\n",
    "    ax2.set_xticklabels(xlbls, rotation=45, ha='right',fontsize=6)\n",
    "    ax2.set_xlabel('Features')\n",
    "    \n",
    "    plt.savefig((pop['output']+'/'+ prefix +'_features_m%d_topgenes.pdf' % W.shape[1]), dpi=600, bbox_inches = \"tight\")\n",
    "    plt.close()\n",
    "    \n",
    "    return genes_idx, genes_featv\n"
   ]
  },
  {
   "cell_type": "markdown",
   "metadata": {},
   "source": [
    "### Run NMF de novo and look for gene programs: \n"
   ]
  },
  {
   "cell_type": "code",
   "execution_count": 20,
   "metadata": {},
   "outputs": [
    {
     "name": "stdout",
     "output_type": "stream",
     "text": [
      "Orthogonal NMF performed with 500 iterations\n",
      "\n"
     ]
    }
   ],
   "source": [
    "# find nmf features using a random subset of cells\n",
    "import random\n",
    "M_norm = PA.cat_data(pop,'M_norm')\n",
    "randidx = random.sample(range(M_norm.shape[1]),5000)\n",
    "numfeatures = 17\n",
    "\n",
    "M_sample = M_norm[:,randidx]\n",
    "\n",
    "# remove all zero genes\n",
    "keepidx = np.nonzero(np.sum(M_sample,axis=1)>0)[0]\n",
    "M_sample = M_sample[keepidx,:]\n",
    "NMFgenes = np.array(pop['filtered_genes'])[keepidx]\n",
    "\n",
    "W, H =  PA.oNMF(M_norm[:,randidx], numfeatures)"
   ]
  },
  {
   "cell_type": "code",
   "execution_count": 216,
   "metadata": {},
   "outputs": [],
   "source": [
    "# [MANUAL STEP: reorganize the W vectors]\n",
    "W_reorg_idx = [6,11,15,13,1,0,2,4,10, #universal\n",
    "               12,# D5 synthetic enriched\n",
    "               3, # D6 synthetic enriched\n",
    "               5,7,9,8,14] #natural enriched\n",
    "W = W[:,W_reorg_idx]"
   ]
  },
  {
   "cell_type": "code",
   "execution_count": 241,
   "metadata": {},
   "outputs": [],
   "source": [
    "feat_gidx, featv = plot_top_genes_features(W, NMFgenes, stdfactor=2)"
   ]
  },
  {
   "cell_type": "code",
   "execution_count": 218,
   "metadata": {},
   "outputs": [],
   "source": [
    "# get indices for genes\n",
    "plot_genes = NMFgenes[feat_gidx]"
   ]
  },
  {
   "cell_type": "markdown",
   "metadata": {},
   "source": [
    "### Generate cell reordering vectors based on 1) hierarchical clustering and 2) cell type labels"
   ]
  },
  {
   "cell_type": "code",
   "execution_count": 203,
   "metadata": {},
   "outputs": [],
   "source": [
    "def class2num(classes, classorder = None):\n",
    "    '''\n",
    "    convert class array into numbers for plotting\n",
    "    classes : array of strings\n",
    "        vector of classes, which is the same variable as the data\n",
    "    classorder: array of strings\n",
    "        \n",
    "    '''\n",
    "    if classorder==None: \n",
    "        classorder = list(dict.fromkeys(classes))\n",
    "    else: \n",
    "        if not(set(classorder)==set(classes)):\n",
    "            raise Exception('classorder must contain all classes')\n",
    "    \n",
    "    classdict = {classorder[i]:i for i in range(len(classorder))}\n",
    "    classnums = np.array([classdict[c] for c in classes])\n",
    "\n",
    "    return classnums, classdict    "
   ]
  },
  {
   "cell_type": "code",
   "execution_count": 204,
   "metadata": {},
   "outputs": [],
   "source": [
    "classnums, classdict = class2num(pop['meta']['type'], ['EPI', 'HYPO', 'IM', 'PE', 'TE', 'undefined'])"
   ]
  },
  {
   "cell_type": "code",
   "execution_count": 205,
   "metadata": {},
   "outputs": [
    {
     "data": {
      "text/plain": [
       "['EPI', 'HYPO', 'IM', 'PE', 'TE', 'undefined']"
      ]
     },
     "execution_count": 205,
     "metadata": {},
     "output_type": "execute_result"
    }
   ],
   "source": [
    "list(classdict.keys())"
   ]
  },
  {
   "cell_type": "code",
   "execution_count": 206,
   "metadata": {},
   "outputs": [
    {
     "name": "stdout",
     "output_type": "stream",
     "text": [
      "D5 done\n",
      "D6 done\n",
      "2D done\n",
      "Nat done\n",
      "StemBlastoids done\n",
      "iBlastoids done\n"
     ]
    }
   ],
   "source": [
    "# [1] Generate cell indices based on unsupervised hierarchical clustering\n",
    "\n",
    "keys = ['D5','D6','2D','Nat', 'StemBlastoids', 'iBlastoids']\n",
    "max_d = 0.5\n",
    "\n",
    "cellidxlist=[]\n",
    "\n",
    "for key in keys: \n",
    "    currM = ss.hstack([pop['samples'][x]['M_norm'] for x in pop['order'] if (key in x)])\n",
    "    # cluster the cells: \n",
    "    cc = pd.DataFrame(currM.todense()).corr()\n",
    "    d = 1 -  cc\n",
    "    Z = hc.linkage(sp.distance.squareform(d), method='complete')\n",
    "\n",
    "    # clusters = hc.fcluster(Z, max_d, criterion='distance').flatten()\n",
    "    currcellidx = hc.leaves_list(Z)\n",
    "    cellidxlist.append(currcellidx)\n",
    "    print(key + ' done')"
   ]
  },
  {
   "cell_type": "code",
   "execution_count": 207,
   "metadata": {},
   "outputs": [
    {
     "name": "stdout",
     "output_type": "stream",
     "text": [
      "D5 done\n",
      "D6 done\n",
      "2D done\n",
      "Nat done\n",
      "StemBlastoids done\n",
      "iBlastoids done\n"
     ]
    }
   ],
   "source": [
    "# [2] Generate cell indices based on supplied cell type labels \n",
    "\n",
    "keys = ['D5','D6','2D','Nat', 'StemBlastoids', 'iBlastoids']\n",
    "\n",
    "cellidxlist_labels=[]\n",
    "for key in keys: \n",
    "    sampidx = np.array([i for i in range(len(pop['meta'])) if key in pop['meta']['orig.ident'].iloc[i]])\n",
    "    cellidx = []\n",
    "    for i, class_type in enumerate(classdict.keys()):\n",
    "        curridx = np.nonzero(classnums[sampidx]==i)[0]\n",
    "        cellidx.append(curridx)\n",
    "    cellidx = np.hstack(cellidx)    \n",
    "    cellidxlist_labels.append(cellidx)\n",
    "    print(key + ' done')"
   ]
  },
  {
   "cell_type": "code",
   "execution_count": 219,
   "metadata": {},
   "outputs": [
    {
     "name": "stdout",
     "output_type": "stream",
     "text": [
      "D5 done\n",
      "D6 done\n",
      "2D done\n",
      "Nat done\n",
      "StemBlastoids done\n",
      "iBlastoids done\n"
     ]
    }
   ],
   "source": [
    "# Make plots using the hierarchical clustering indices\n",
    "\n",
    "keys = ['D5','D6','2D','Nat', 'StemBlastoids', 'iBlastoids']\n",
    "\n",
    "\n",
    "for i,key in enumerate(keys): \n",
    "#     ax = axes[i]\n",
    "    sampidx = np.array([i for i in range(len(pop['meta'])) if key in pop['meta']['orig.ident'].iloc[i]])\n",
    "\n",
    "    # Plot everything together \n",
    "    f_cmap = plt.get_cmap('tab20', int(max(featv)+1))\n",
    "    c_cmap = plt.get_cmap('Dark2', max(classnums)+1)\n",
    "\n",
    "    cellidx =cellidxlist[i]\n",
    "    \n",
    "    currM = ss.hstack([pop['samples'][x]['M_norm'] for x in pop['order'] if (key in x)])\n",
    "    currM = currM[keepidx[feat_gidx],:]\n",
    "    \n",
    "    curr_classnums = classnums[sampidx]\n",
    "    \n",
    "    fig = plt.figure(figsize=(8,8))\n",
    "    \n",
    "    ax1 = plt.subplot2grid((8,8), (0,0),  rowspan=7, colspan=1) # gene labels\n",
    "    ax2 = plt.subplot2grid((8,8), (0,1),  rowspan=7, colspan=7) # M : gene exp matrix\n",
    "    ax3 = plt.subplot2grid((8,8), (7,1),  rowspan=1, colspan=7) # cell types\n",
    "\n",
    "    ax1.imshow(featv.reshape((len(featv),1)), cmap=f_cmap, aspect = 'auto')\n",
    "    ax1.set_xticks([])\n",
    "    ax1.set_ylabel('Genes')\n",
    "    ax1.set_ylim(-0.5,len(plot_genes)-0.5)\n",
    "    ax1.set_yticks(np.arange(len(plot_genes)))\n",
    "    ax1.set_yticklabels(plot_genes, fontsize=2)\n",
    "    \n",
    "    ax2.imshow(np.flipud(currM[:,cellidx].todense()), cmap='BuPu', aspect='auto')\n",
    "    ax2.set_xticks([])\n",
    "    ax2.set_yticks([])\n",
    "    ax2.set_title(key)   \n",
    "        \n",
    "    cax = ax3.imshow(curr_classnums[cellidx].reshape((len(cellidx),1)).T, cmap=c_cmap,aspect='auto', vmin=0, vmax = max(classnums)+0.5)\n",
    "    ax3.set_xticks([])\n",
    "    ax3.set_yticks([])\n",
    "    cbar = plt.colorbar(cax, orientation='horizontal',fraction=0.3, pad=0.2)\n",
    "    cbar.set_ticks(np.array(range(max(classnums)+1))+0.5) \n",
    "    cbar.ax.set_xticklabels(list(classdict.keys()),rotation=90)\n",
    "    \n",
    "    PA.mkdir(pop['output']+'/heatmaps')\n",
    "    \n",
    "    plt.savefig((pop['output']+'/heatmaps/%s_gene_heatmap_hierarchical.pdf' % key), dpi=300, bbox_inches = \"tight\")\n",
    "    plt.close()\n",
    "    \n",
    "    print(key + ' done')"
   ]
  },
  {
   "cell_type": "code",
   "execution_count": 220,
   "metadata": {},
   "outputs": [],
   "source": [
    "# Make plots using the given cell type labels\n",
    "keys = ['D5','D6','2D','Nat', 'StemBlastoids', 'iBlastoids']\n",
    "\n",
    "for i,key in enumerate(keys): \n",
    "#     ax = axes[i]\n",
    "    sampidx = np.array([i for i in range(len(pop['meta'])) if key in pop['meta']['orig.ident'].iloc[i]])\n",
    "\n",
    "    # Plot everything together \n",
    "    f_cmap = plt.get_cmap('tab20', int(max(featv)+1))\n",
    "    c_cmap = plt.get_cmap('Dark2', max(classnums)+1)\n",
    "\n",
    "    cellidx = cellidxlist_labels[i]\n",
    "    \n",
    "    currM = ss.hstack([pop['samples'][x]['M_norm'] for x in pop['order'] if (key in x)])\n",
    "    currM = currM[keepidx[feat_gidx],:]\n",
    "    \n",
    "    curr_classnums = classnums[sampidx]\n",
    "    \n",
    "    fig = plt.figure(figsize=(8,8))\n",
    "    \n",
    "    ax1 = plt.subplot2grid((8,8), (0,0),  rowspan=7, colspan=1) # gene labels\n",
    "    ax2 = plt.subplot2grid((8,8), (0,1),  rowspan=7, colspan=7) # M : gene exp matrix\n",
    "    ax3 = plt.subplot2grid((8,8), (7,1),  rowspan=1, colspan=7) # cell types\n",
    "\n",
    "    ax1.imshow(featv.reshape((len(featv),1)), cmap=f_cmap, aspect = 'auto')\n",
    "    ax1.set_xticks([])\n",
    "    ax1.set_ylabel('Genes')\n",
    "    ax1.set_ylim(-0.5,len(plot_genes)-0.5)\n",
    "    ax1.set_yticks(np.arange(len(plot_genes)))\n",
    "    ax1.set_yticklabels(plot_genes, fontsize=2)\n",
    "    \n",
    "    ax2.imshow(np.flipud(currM[:,cellidx].todense()), cmap='BuPu', aspect='auto')\n",
    "    ax2.set_xticks([])\n",
    "    ax2.set_yticks([])\n",
    "    ax2.set_title(key)   \n",
    "        \n",
    "    cax = ax3.imshow(curr_classnums[cellidx].reshape((len(cellidx),1)).T, cmap=c_cmap,aspect='auto', vmin=0, vmax = max(classnums)+0.5)\n",
    "    ax3.set_xticks([])\n",
    "    ax3.set_yticks([])\n",
    "    cbar = plt.colorbar(cax, orientation='horizontal',fraction=0.3, pad=0.2)\n",
    "    cbar.set_ticks(np.array(range(max(classnums)+1))+0.5) \n",
    "    cbar.ax.set_xticklabels(list(classdict.keys()),rotation=90)\n",
    "    \n",
    "    PA.mkdir(pop['output']+'/heatmaps')\n",
    "    \n",
    "    plt.savefig((pop['output']+'/heatmaps/%s_gene_heatmap_VJcluster.pdf' % key), dpi=300, bbox_inches = \"tight\")\n",
    "    plt.close()"
   ]
  },
  {
   "cell_type": "code",
   "execution_count": 221,
   "metadata": {},
   "outputs": [],
   "source": [
    "pd.DataFrame({ 'features':featv[::-1],'genes':plot_genes[::-1]}).to_csv(pop['output']+'/heatmaps/gene_list.csv')"
   ]
  },
  {
   "cell_type": "code",
   "execution_count": 222,
   "metadata": {},
   "outputs": [
    {
     "data": {
      "text/plain": [
       "18379"
      ]
     },
     "execution_count": 222,
     "metadata": {},
     "output_type": "execute_result"
    }
   ],
   "source": [
    "len(pop['genes'])"
   ]
  },
  {
   "cell_type": "markdown",
   "metadata": {},
   "source": [
    "### Run GSEA on the major gene groups annotated"
   ]
  },
  {
   "cell_type": "code",
   "execution_count": 226,
   "metadata": {},
   "outputs": [],
   "source": [
    "# Before running this section write in gene groups in the excel shee\n",
    "\n",
    "heatmap_genes = pd.read_csv(pop['output']+'/heatmaps/gene_list.csv', header = 0, index_col=0)\n",
    "gene_groups = list(dict.fromkeys(heatmap_genes['group']))"
   ]
  },
  {
   "cell_type": "code",
   "execution_count": 228,
   "metadata": {},
   "outputs": [],
   "source": [
    "size_total = len(pop['genes'])\n",
    "ngenesets=10\n",
    "# PApath ='/Users/sisichen/Documents/Github/popalign/popalign/'\n",
    "resourcePath = '../../Resources/'\n",
    "\n",
    "genesetdict = {'GO': 'c5bp.npy', \n",
    "               'Reactome-all': 'ReactomePathways_all.npy', \n",
    "               'Reactome-signaling': 'ReactomePathways_signalling_broad.npy',\n",
    "               'Reactome-selected': 'ReactomePathways_selected_signalling.npy'}"
   ]
  },
  {
   "cell_type": "code",
   "execution_count": 229,
   "metadata": {},
   "outputs": [
    {
     "name": "stdout",
     "output_type": "stream",
     "text": [
      "GSEA progress: Set 4 \r"
     ]
    }
   ],
   "source": [
    "geneset = 'Reactome-signaling'\n",
    "d = PA.load_dict(os.path.join(resourcePath, genesetdict[geneset]))\n",
    "\n",
    "gsea_list =[]\n",
    "for i, group in enumerate(gene_groups): # for each feature i\n",
    "    print('GSEA progress: Set %d ' % ((i+1)), end='\\r')\n",
    "    genelist = heatmap_genes[heatmap_genes['group']==group]['genes'].tolist() # gene matching gene names\n",
    "    gsea_list.append(PA.enrichment_analysis(pop, d, genelist, size_total, ngenesets)) # for that list of genes, run GSEA)\n"
   ]
  },
  {
   "cell_type": "code",
   "execution_count": 230,
   "metadata": {},
   "outputs": [
    {
     "data": {
      "text/plain": [
       "[                                         feat_labels    feat_pvals\n",
       " 0        Regulation of expression of SLITs and ROBOs  4.529217e-39\n",
       " 1                        Signaling by ROBO receptors  4.295222e-36\n",
       " 2                                  RHOF GTPase cycle  1.828406e-05\n",
       " 3                        Toll-like Receptor Cascades  2.525658e-05\n",
       " 4         MAP3K8 (TPL2)-dependent MAPK1/3 activation  2.738481e-05\n",
       " 5                 FBXW7 Mutants and NOTCH1 in Cancer  1.379012e-04\n",
       " 6  Loss of Function of FBXW7 in Cancer and NOTCH1...  1.379012e-04\n",
       " 7                      FLT3 signaling by CBL mutants  2.881878e-04\n",
       " 8                Toll Like Receptor 5 (TLR5) Cascade  2.929674e-04\n",
       " 9              Toll Like Receptor 10 (TLR10) Cascade  2.929674e-04,\n",
       "                                          feat_labels  feat_pvals\n",
       " 0                                 NCAM1 interactions    0.000007\n",
       " 1                      G alpha (z) signalling events    0.000019\n",
       " 2                                  Signaling by PDGF    0.000028\n",
       " 3                                MET activates STAT3    0.000032\n",
       " 4  Prostacyclin signalling through prostacyclin r...    0.000032\n",
       " 5              NCAM signaling for neurite out-growth    0.000041\n",
       " 6                               MET activates PTPN11    0.000108\n",
       " 7                   MET activates PI3K/AKT signaling    0.000161\n",
       " 8                   GPVI-mediated activation cascade    0.000177\n",
       " 9         Glucagon signaling in metabolic regulation    0.000177,\n",
       "                                          feat_labels    feat_pvals\n",
       " 0         Interleukin-4 and Interleukin-13 signaling  1.041796e-09\n",
       " 1                          Signaling by Interleukins  5.249440e-06\n",
       " 2                                Signal Transduction  1.177304e-05\n",
       " 3  Regulation of Insulin-like Growth Factor (IGF)...  2.854941e-05\n",
       " 4                          Signal transduction by L1  2.903019e-05\n",
       " 5       Neurophilin interactions with VEGF and VEGFR  4.877553e-05\n",
       " 6                                 NCAM1 interactions  1.641567e-04\n",
       " 7                  VEGF ligand-receptor interactions  2.259404e-04\n",
       " 8                      RUNX3 regulates WNT signaling  2.259404e-04\n",
       " 9  VEGF binds to VEGFR leading to receptor dimeri...  2.259404e-04,\n",
       "                                          feat_labels  feat_pvals\n",
       " 0                   FGFR4 mutant receptor activation    0.000000\n",
       " 1                       NGF-stimulated transcription    0.000013\n",
       " 2         Interleukin-4 and Interleukin-13 signaling    0.000024\n",
       " 3  Regulation of Insulin-like Growth Factor (IGF)...    0.000046\n",
       " 4                   Hormone ligand-binding receptors    0.000117\n",
       " 5        Drug-mediated inhibition of ERBB2 signaling    0.000342\n",
       " 6                               RHOBTB2 GTPase cycle    0.000685\n",
       " 7  RUNX1 regulates transcription of genes involve...    0.000847\n",
       " 8  Erythropoietin activates Phospholipase C gamma...    0.001180\n",
       " 9                     Erythropoietin activates STAT5    0.001180]"
      ]
     },
     "execution_count": 230,
     "metadata": {},
     "output_type": "execute_result"
    }
   ],
   "source": [
    "gsea_list"
   ]
  },
  {
   "cell_type": "code",
   "execution_count": 233,
   "metadata": {},
   "outputs": [],
   "source": [
    "for i,result in enumerate(gsea_list): \n",
    "    vals = -np.log10(result['feat_pvals'])\n",
    "    plt.barh(list(range(len(vals))),np.flipud(vals))\n",
    "    plt.yticks(ticks=list(range(len(vals))),labels=np.flipud(result['feat_labels']))\n",
    "    plt.xlabel('-log10(p-val)')\n",
    "    plt.title(gene_groups[i])\n",
    "    \n",
    "    plt.savefig((pop['output']+'/heatmaps/gsea_%s_%s.pdf' %(geneset, gene_groups[i])), dpi=300, bbox_inches = \"tight\")\n",
    "    plt.close()"
   ]
  }
 ],
 "metadata": {
  "kernelspec": {
   "display_name": "Python 3",
   "language": "python",
   "name": "python3"
  },
  "language_info": {
   "codemirror_mode": {
    "name": "ipython",
    "version": 3
   },
   "file_extension": ".py",
   "mimetype": "text/x-python",
   "name": "python",
   "nbconvert_exporter": "python",
   "pygments_lexer": "ipython3",
   "version": "3.7.4"
  }
 },
 "nbformat": 4,
 "nbformat_minor": 2
}
