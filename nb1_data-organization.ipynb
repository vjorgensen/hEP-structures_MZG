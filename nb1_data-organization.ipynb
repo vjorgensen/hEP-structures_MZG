{
 "cells": [
  {
   "cell_type": "code",
   "execution_count": 1,
   "metadata": {},
   "outputs": [
    {
     "name": "stdout",
     "output_type": "stream",
     "text": [
      "Mon Jun 14 10:30:17 PDT 2021\n"
     ]
    }
   ],
   "source": [
    "!date"
   ]
  },
  {
   "cell_type": "markdown",
   "metadata": {},
   "source": [
    "Import all packages (some not necessary)"
   ]
  },
  {
   "cell_type": "code",
   "execution_count": 2,
   "metadata": {
    "tags": []
   },
   "outputs": [],
   "source": [
    "import numpy as np\n",
    "import pandas as pd\n",
    "import scanpy as sc\n",
    "import anndata\n",
    "from sklearn.decomposition import TruncatedSVD\n",
    "from sklearn.neighbors import NeighborhoodComponentsAnalysis\n",
    "from sklearn.manifold import TSNE\n",
    "import matplotlib\n",
    "import matplotlib.pyplot as plt\n",
    "\n",
    "%config InlineBackend.figure_format = 'retina'"
   ]
  },
  {
   "cell_type": "markdown",
   "metadata": {},
   "source": [
    "Load in 10x sequencing data."
   ]
  },
  {
   "cell_type": "code",
   "execution_count": 5,
   "metadata": {},
   "outputs": [],
   "source": [
    "# Data from hEP-structures\n",
    "Goetz_D = sc.read_10x_mtx(\"MZG_data/Goetz-3_hEP\")\n",
    "\n",
    "# Data from D5/D6 natural embryos\n",
    "Goetz_D2 = sc.read_10x_mtx(\"MZG_data/Goetz-4_natural\")"
   ]
  },
  {
   "cell_type": "markdown",
   "metadata": {},
   "source": [
    "Concatenate the two data frames. "
   ]
  },
  {
   "cell_type": "code",
   "execution_count": 6,
   "metadata": {},
   "outputs": [],
   "source": [
    "adata = Goetz_D.concatenate(Goetz_D2, index_unique=None)"
   ]
  },
  {
   "cell_type": "markdown",
   "metadata": {},
   "source": [
    "Organize the data."
   ]
  },
  {
   "cell_type": "code",
   "execution_count": 7,
   "metadata": {},
   "outputs": [
    {
     "data": {
      "text/html": [
       "<div>\n",
       "<style scoped>\n",
       "    .dataframe tbody tr th:only-of-type {\n",
       "        vertical-align: middle;\n",
       "    }\n",
       "\n",
       "    .dataframe tbody tr th {\n",
       "        vertical-align: top;\n",
       "    }\n",
       "\n",
       "    .dataframe thead th {\n",
       "        text-align: right;\n",
       "    }\n",
       "</style>\n",
       "<table border=\"1\" class=\"dataframe\">\n",
       "  <thead>\n",
       "    <tr style=\"text-align: right;\">\n",
       "      <th></th>\n",
       "      <th>gene_ids</th>\n",
       "      <th>feature_types</th>\n",
       "      <th>gene_name</th>\n",
       "    </tr>\n",
       "  </thead>\n",
       "  <tbody>\n",
       "    <tr>\n",
       "      <th>RP11-34P13.3</th>\n",
       "      <td>ENSG00000243485</td>\n",
       "      <td>Gene Expression</td>\n",
       "      <td>RP11-34P13.3</td>\n",
       "    </tr>\n",
       "    <tr>\n",
       "      <th>FAM138A</th>\n",
       "      <td>ENSG00000237613</td>\n",
       "      <td>Gene Expression</td>\n",
       "      <td>FAM138A</td>\n",
       "    </tr>\n",
       "    <tr>\n",
       "      <th>OR4F5</th>\n",
       "      <td>ENSG00000186092</td>\n",
       "      <td>Gene Expression</td>\n",
       "      <td>OR4F5</td>\n",
       "    </tr>\n",
       "    <tr>\n",
       "      <th>RP11-34P13.7</th>\n",
       "      <td>ENSG00000238009</td>\n",
       "      <td>Gene Expression</td>\n",
       "      <td>RP11-34P13.7</td>\n",
       "    </tr>\n",
       "    <tr>\n",
       "      <th>RP11-34P13.8</th>\n",
       "      <td>ENSG00000239945</td>\n",
       "      <td>Gene Expression</td>\n",
       "      <td>RP11-34P13.8</td>\n",
       "    </tr>\n",
       "    <tr>\n",
       "      <th>...</th>\n",
       "      <td>...</td>\n",
       "      <td>...</td>\n",
       "      <td>...</td>\n",
       "    </tr>\n",
       "    <tr>\n",
       "      <th>AC233755.2</th>\n",
       "      <td>ENSG00000277856</td>\n",
       "      <td>Gene Expression</td>\n",
       "      <td>AC233755.2</td>\n",
       "    </tr>\n",
       "    <tr>\n",
       "      <th>AC233755.1</th>\n",
       "      <td>ENSG00000275063</td>\n",
       "      <td>Gene Expression</td>\n",
       "      <td>AC233755.1</td>\n",
       "    </tr>\n",
       "    <tr>\n",
       "      <th>AC240274.1</th>\n",
       "      <td>ENSG00000271254</td>\n",
       "      <td>Gene Expression</td>\n",
       "      <td>AC240274.1</td>\n",
       "    </tr>\n",
       "    <tr>\n",
       "      <th>AC213203.1</th>\n",
       "      <td>ENSG00000277475</td>\n",
       "      <td>Gene Expression</td>\n",
       "      <td>AC213203.1</td>\n",
       "    </tr>\n",
       "    <tr>\n",
       "      <th>FAM231B</th>\n",
       "      <td>ENSG00000268674</td>\n",
       "      <td>Gene Expression</td>\n",
       "      <td>FAM231B</td>\n",
       "    </tr>\n",
       "  </tbody>\n",
       "</table>\n",
       "<p>33694 rows × 3 columns</p>\n",
       "</div>"
      ],
      "text/plain": [
       "                     gene_ids    feature_types     gene_name\n",
       "RP11-34P13.3  ENSG00000243485  Gene Expression  RP11-34P13.3\n",
       "FAM138A       ENSG00000237613  Gene Expression       FAM138A\n",
       "OR4F5         ENSG00000186092  Gene Expression         OR4F5\n",
       "RP11-34P13.7  ENSG00000238009  Gene Expression  RP11-34P13.7\n",
       "RP11-34P13.8  ENSG00000239945  Gene Expression  RP11-34P13.8\n",
       "...                       ...              ...           ...\n",
       "AC233755.2    ENSG00000277856  Gene Expression    AC233755.2\n",
       "AC233755.1    ENSG00000275063  Gene Expression    AC233755.1\n",
       "AC240274.1    ENSG00000271254  Gene Expression    AC240274.1\n",
       "AC213203.1    ENSG00000277475  Gene Expression    AC213203.1\n",
       "FAM231B       ENSG00000268674  Gene Expression       FAM231B\n",
       "\n",
       "[33694 rows x 3 columns]"
      ]
     },
     "execution_count": 7,
     "metadata": {},
     "output_type": "execute_result"
    }
   ],
   "source": [
    "# Make gene name column\n",
    "adata.var[\"gene_name\"] = adata.var.index\n",
    "adata.var"
   ]
  },
  {
   "cell_type": "markdown",
   "metadata": {},
   "source": [
    "Load in meta data (note: analysis was done in the other notebook in order to generate this meta data file, and then was added retrospectively.)"
   ]
  },
  {
   "cell_type": "code",
   "execution_count": 9,
   "metadata": {},
   "outputs": [
    {
     "data": {
      "text/html": [
       "<div>\n",
       "<style scoped>\n",
       "    .dataframe tbody tr th:only-of-type {\n",
       "        vertical-align: middle;\n",
       "    }\n",
       "\n",
       "    .dataframe tbody tr th {\n",
       "        vertical-align: top;\n",
       "    }\n",
       "\n",
       "    .dataframe thead th {\n",
       "        text-align: right;\n",
       "    }\n",
       "</style>\n",
       "<table border=\"1\" class=\"dataframe\">\n",
       "  <thead>\n",
       "    <tr style=\"text-align: right;\">\n",
       "      <th></th>\n",
       "      <th>sample_id</th>\n",
       "      <th>sample_number</th>\n",
       "      <th>cell_group</th>\n",
       "    </tr>\n",
       "  </thead>\n",
       "  <tbody>\n",
       "    <tr>\n",
       "      <th>AAACCCAAGCGATGAC11</th>\n",
       "      <td>unknown</td>\n",
       "      <td>0</td>\n",
       "      <td>unknown</td>\n",
       "    </tr>\n",
       "    <tr>\n",
       "      <th>AAACCCAAGGTAAAGG11</th>\n",
       "      <td>D6-R3</td>\n",
       "      <td>6</td>\n",
       "      <td>D6</td>\n",
       "    </tr>\n",
       "    <tr>\n",
       "      <th>AAACCCAAGTTGAAGT11</th>\n",
       "      <td>D6-R1</td>\n",
       "      <td>4</td>\n",
       "      <td>D6</td>\n",
       "    </tr>\n",
       "    <tr>\n",
       "      <th>AAACCCACAAATCCCA11</th>\n",
       "      <td>D6-R3</td>\n",
       "      <td>6</td>\n",
       "      <td>D6</td>\n",
       "    </tr>\n",
       "    <tr>\n",
       "      <th>AAACCCACAACCGTGC11</th>\n",
       "      <td>D6-R1</td>\n",
       "      <td>4</td>\n",
       "      <td>D6</td>\n",
       "    </tr>\n",
       "    <tr>\n",
       "      <th>...</th>\n",
       "      <td>...</td>\n",
       "      <td>...</td>\n",
       "      <td>...</td>\n",
       "    </tr>\n",
       "    <tr>\n",
       "      <th>TTTCACAGTCCGGACT-1</th>\n",
       "      <td>Nat</td>\n",
       "      <td>9</td>\n",
       "      <td>Nat</td>\n",
       "    </tr>\n",
       "    <tr>\n",
       "      <th>TTTCATGCATCCTCAC-1</th>\n",
       "      <td>Nat</td>\n",
       "      <td>9</td>\n",
       "      <td>Nat</td>\n",
       "    </tr>\n",
       "    <tr>\n",
       "      <th>TTTGATCAGGAGCAAA-1</th>\n",
       "      <td>Nat</td>\n",
       "      <td>9</td>\n",
       "      <td>Nat</td>\n",
       "    </tr>\n",
       "    <tr>\n",
       "      <th>TTTGGTTAGACGGTTG-1</th>\n",
       "      <td>Nat</td>\n",
       "      <td>9</td>\n",
       "      <td>Nat</td>\n",
       "    </tr>\n",
       "    <tr>\n",
       "      <th>TTTGGTTTCCATTTCA-1</th>\n",
       "      <td>Nat</td>\n",
       "      <td>9</td>\n",
       "      <td>Nat</td>\n",
       "    </tr>\n",
       "  </tbody>\n",
       "</table>\n",
       "<p>6231 rows × 3 columns</p>\n",
       "</div>"
      ],
      "text/plain": [
       "                   sample_id  sample_number cell_group\n",
       "AAACCCAAGCGATGAC11   unknown              0    unknown\n",
       "AAACCCAAGGTAAAGG11     D6-R3              6         D6\n",
       "AAACCCAAGTTGAAGT11     D6-R1              4         D6\n",
       "AAACCCACAAATCCCA11     D6-R3              6         D6\n",
       "AAACCCACAACCGTGC11     D6-R1              4         D6\n",
       "...                      ...            ...        ...\n",
       "TTTCACAGTCCGGACT-1       Nat              9        Nat\n",
       "TTTCATGCATCCTCAC-1       Nat              9        Nat\n",
       "TTTGATCAGGAGCAAA-1       Nat              9        Nat\n",
       "TTTGGTTAGACGGTTG-1       Nat              9        Nat\n",
       "TTTGGTTTCCATTTCA-1       Nat              9        Nat\n",
       "\n",
       "[6231 rows x 3 columns]"
      ]
     },
     "execution_count": 9,
     "metadata": {},
     "output_type": "execute_result"
    }
   ],
   "source": [
    "# Read in meta data csv\n",
    "all_meta = pd.read_csv(\"MZG_data/all_meta.csv\", index_col=0)\n",
    "\n",
    "# Generate 'cell_group' column to distinguish natural embryo, 2D EPSCs, D5 hEP, and D6 hEP.\n",
    "# Note that 'sample_id' distinguishes between replicates.\n",
    "all_meta['cell_group'] = [all_meta['sample_id'][i].split('-')[0] for i in range(len(all_meta))]\n",
    "all_meta.index.name = None\n",
    "\n",
    "all_meta"
   ]
  },
  {
   "cell_type": "code",
   "execution_count": 10,
   "metadata": {},
   "outputs": [
    {
     "data": {
      "text/html": [
       "<div>\n",
       "<style scoped>\n",
       "    .dataframe tbody tr th:only-of-type {\n",
       "        vertical-align: middle;\n",
       "    }\n",
       "\n",
       "    .dataframe tbody tr th {\n",
       "        vertical-align: top;\n",
       "    }\n",
       "\n",
       "    .dataframe thead th {\n",
       "        text-align: right;\n",
       "    }\n",
       "</style>\n",
       "<table border=\"1\" class=\"dataframe\">\n",
       "  <thead>\n",
       "    <tr style=\"text-align: right;\">\n",
       "      <th></th>\n",
       "      <th>batch</th>\n",
       "      <th>sample_id</th>\n",
       "      <th>sample_number</th>\n",
       "      <th>cell_group</th>\n",
       "    </tr>\n",
       "  </thead>\n",
       "  <tbody>\n",
       "    <tr>\n",
       "      <th>AAACCCAAGCGATGAC11</th>\n",
       "      <td>0</td>\n",
       "      <td>unknown</td>\n",
       "      <td>0</td>\n",
       "      <td>unknown</td>\n",
       "    </tr>\n",
       "    <tr>\n",
       "      <th>AAACCCAAGGTAAAGG11</th>\n",
       "      <td>0</td>\n",
       "      <td>D6-R3</td>\n",
       "      <td>6</td>\n",
       "      <td>D6</td>\n",
       "    </tr>\n",
       "    <tr>\n",
       "      <th>AAACCCAAGTTGAAGT11</th>\n",
       "      <td>0</td>\n",
       "      <td>D6-R1</td>\n",
       "      <td>4</td>\n",
       "      <td>D6</td>\n",
       "    </tr>\n",
       "    <tr>\n",
       "      <th>AAACCCACAAATCCCA11</th>\n",
       "      <td>0</td>\n",
       "      <td>D6-R3</td>\n",
       "      <td>6</td>\n",
       "      <td>D6</td>\n",
       "    </tr>\n",
       "    <tr>\n",
       "      <th>AAACCCACAACCGTGC11</th>\n",
       "      <td>0</td>\n",
       "      <td>D6-R1</td>\n",
       "      <td>4</td>\n",
       "      <td>D6</td>\n",
       "    </tr>\n",
       "    <tr>\n",
       "      <th>...</th>\n",
       "      <td>...</td>\n",
       "      <td>...</td>\n",
       "      <td>...</td>\n",
       "      <td>...</td>\n",
       "    </tr>\n",
       "    <tr>\n",
       "      <th>TTTCACAGTCCGGACT-1</th>\n",
       "      <td>1</td>\n",
       "      <td>Nat</td>\n",
       "      <td>9</td>\n",
       "      <td>Nat</td>\n",
       "    </tr>\n",
       "    <tr>\n",
       "      <th>TTTCATGCATCCTCAC-1</th>\n",
       "      <td>1</td>\n",
       "      <td>Nat</td>\n",
       "      <td>9</td>\n",
       "      <td>Nat</td>\n",
       "    </tr>\n",
       "    <tr>\n",
       "      <th>TTTGATCAGGAGCAAA-1</th>\n",
       "      <td>1</td>\n",
       "      <td>Nat</td>\n",
       "      <td>9</td>\n",
       "      <td>Nat</td>\n",
       "    </tr>\n",
       "    <tr>\n",
       "      <th>TTTGGTTAGACGGTTG-1</th>\n",
       "      <td>1</td>\n",
       "      <td>Nat</td>\n",
       "      <td>9</td>\n",
       "      <td>Nat</td>\n",
       "    </tr>\n",
       "    <tr>\n",
       "      <th>TTTGGTTTCCATTTCA-1</th>\n",
       "      <td>1</td>\n",
       "      <td>Nat</td>\n",
       "      <td>9</td>\n",
       "      <td>Nat</td>\n",
       "    </tr>\n",
       "  </tbody>\n",
       "</table>\n",
       "<p>6231 rows × 4 columns</p>\n",
       "</div>"
      ],
      "text/plain": [
       "                   batch sample_id  sample_number cell_group\n",
       "AAACCCAAGCGATGAC11     0   unknown              0    unknown\n",
       "AAACCCAAGGTAAAGG11     0     D6-R3              6         D6\n",
       "AAACCCAAGTTGAAGT11     0     D6-R1              4         D6\n",
       "AAACCCACAAATCCCA11     0     D6-R3              6         D6\n",
       "AAACCCACAACCGTGC11     0     D6-R1              4         D6\n",
       "...                  ...       ...            ...        ...\n",
       "TTTCACAGTCCGGACT-1     1       Nat              9        Nat\n",
       "TTTCATGCATCCTCAC-1     1       Nat              9        Nat\n",
       "TTTGATCAGGAGCAAA-1     1       Nat              9        Nat\n",
       "TTTGGTTAGACGGTTG-1     1       Nat              9        Nat\n",
       "TTTGGTTTCCATTTCA-1     1       Nat              9        Nat\n",
       "\n",
       "[6231 rows x 4 columns]"
      ]
     },
     "execution_count": 10,
     "metadata": {},
     "output_type": "execute_result"
    }
   ],
   "source": [
    "# Add meta data to adata.obs\n",
    "adata.obs =pd.concat ([adata.obs, all_meta], axis=1)\n",
    "\n",
    "adata.obs"
   ]
  },
  {
   "cell_type": "code",
   "execution_count": 11,
   "metadata": {},
   "outputs": [],
   "source": [
    "# Removes cells with unknown sample-id (i.e. cells with ambiguous barcoding)\n",
    "adata = adata[adata.obs['sample_id']!= 'unknown'] "
   ]
  },
  {
   "cell_type": "code",
   "execution_count": 12,
   "metadata": {},
   "outputs": [
    {
     "name": "stderr",
     "output_type": "stream",
     "text": [
      "/Users/vickijorgensen/opt/anaconda3/lib/python3.7/site-packages/anndata/_core/anndata.py:1208: ImplicitModificationWarning: Initializing view as actual.\n",
      "  \"Initializing view as actual.\", ImplicitModificationWarning\n",
      "Trying to set attribute `.obs` of view, copying.\n",
      "... storing 'sample_id' as categorical\n",
      "Trying to set attribute `.obs` of view, copying.\n",
      "... storing 'cell_group' as categorical\n",
      "Trying to set attribute `.var` of view, copying.\n",
      "... storing 'feature_types' as categorical\n"
     ]
    }
   ],
   "source": [
    "# Save adata.\n",
    "adata.write(\"2021-06-14_adata.h5ad\")"
   ]
  },
  {
   "cell_type": "code",
   "execution_count": 13,
   "metadata": {},
   "outputs": [
    {
     "name": "stdout",
     "output_type": "stream",
     "text": [
      "The watermark extension is already loaded. To reload it, use:\n",
      "  %reload_ext watermark\n",
      "CPython 3.7.10\n",
      "IPython 7.22.0\n",
      "\n",
      "numpy 1.19.4\n",
      "pandas 1.1.4\n",
      "scanpy 1.7.2\n",
      "anndata 0.7.5\n",
      "jupyterlab 3.0.11\n",
      "matplotlib 3.3.4\n"
     ]
    }
   ],
   "source": [
    "%load_ext watermark\n",
    "%watermark -v -p numpy,pandas,scanpy,anndata,jupyterlab,matplotlib"
   ]
  }
 ],
 "metadata": {
  "kernelspec": {
   "display_name": "Python 3",
   "language": "python",
   "name": "python3"
  },
  "language_info": {
   "codemirror_mode": {
    "name": "ipython",
    "version": 3
   },
   "file_extension": ".py",
   "mimetype": "text/x-python",
   "name": "python",
   "nbconvert_exporter": "python",
   "pygments_lexer": "ipython3",
   "version": "3.7.10"
  }
 },
 "nbformat": 4,
 "nbformat_minor": 4
}
